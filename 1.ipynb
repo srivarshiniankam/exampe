{
 "cells": [
  {
   "cell_type": "code",
   "execution_count": 2,
   "id": "e1cdf37e",
   "metadata": {},
   "outputs": [
    {
     "name": "stdout",
     "output_type": "stream",
     "text": [
      "Enter first operand: 2\n",
      "Enter second operand: 4\n",
      "Pre-increment of 2 : 3\n",
      "Post-increment of 2 : 2\n",
      "Bitwise AND of 2 and 4 : 0\n",
      "Bitwise OR of 2 and 4 : 6\n",
      "Bitwise NOT of 2 : -3\n",
      "Bitwise XOR of 2 and 4 : 6\n",
      "Left shift of 2 by 4 : 32\n",
      "Right shift of 2 by 4 : 0\n"
     ]
    }
   ],
   "source": [
    "# Function to emulate pre-increment (++x)\n",
    "def pre_increment(x):\n",
    "    return x + 1\n",
    "\n",
    "# Function to emulate post-increment (x++)\n",
    "def post_increment(x):\n",
    "    original_value = x\n",
    "    x += 1\n",
    "    return original_value\n",
    "\n",
    "# Function to emulate bitwise AND (&)\n",
    "def bitwise_and(x, y):\n",
    "    return x & y\n",
    "\n",
    "# Function to emulate bitwise OR (|)\n",
    "def bitwise_or(x, y):\n",
    "    return x | y\n",
    "\n",
    "# Function to emulate bitwise NOT (~)\n",
    "def bitwise_not(x):\n",
    "    return ~x\n",
    "\n",
    "# Function to emulate bitwise XOR (^)\n",
    "def bitwise_xor(x, y):\n",
    "    return x ^ y\n",
    "\n",
    "# Function to emulate left shift (<<)\n",
    "def left_shift(x, y):\n",
    "    return x << y\n",
    "\n",
    "# Function to emulate right shift (>>)\n",
    "def right_shift(x, y):\n",
    "    return x >> y\n",
    "\n",
    "# Read operand values from standard input\n",
    "operand1 = int(input(\"Enter first operand: \"))\n",
    "operand2 = int(input(\"Enter second operand: \"))\n",
    "\n",
    "# Perform operations and print results\n",
    "print(\"Pre-increment of\", operand1, \":\", pre_increment(operand1))\n",
    "print(\"Post-increment of\", operand1, \":\", post_increment(operand1))\n",
    "print(\"Bitwise AND of\", operand1, \"and\", operand2, \":\", bitwise_and(operand1, operand2))\n",
    "print(\"Bitwise OR of\", operand1, \"and\", operand2, \":\", bitwise_or(operand1, operand2))\n",
    "print(\"Bitwise NOT of\", operand1, \":\", bitwise_not(operand1))\n",
    "print(\"Bitwise XOR of\", operand1, \"and\", operand2, \":\", bitwise_xor(operand1, operand2))\n",
    "print(\"Left shift of\", operand1, \"by\", operand2, \":\", left_shift(operand1, operand2))\n",
    "print(\"Right shift of\", operand1, \"by\", operand2, \":\", right_shift(operand1, operand2))\n"
   ]
  },
  {
   "cell_type": "code",
   "execution_count": 5,
   "id": "2bde59d0",
   "metadata": {},
   "outputs": [
    {
     "name": "stdout",
     "output_type": "stream",
     "text": [
      "x: [1, 2, 3]\n",
      "y: [1, 2, 3]\n",
      "x after modification: [1, 2, 3, 0]\n",
      "y after modification: [1, 2, 3, 0]\n"
     ]
    }
   ],
   "source": [
    "x = [1, 2, 3]\n",
    "y = x\n",
    "\n",
    "print(\"x:\", x)  # Output: [1, 2, 3]\n",
    "print(\"y:\", y)  # Output: [1, 2, 3]\n",
    "\n",
    "# Modifying the list through x\n",
    "x.append(0)\n",
    "\n",
    "print(\"x after modification:\", x)  # Output: [1, 2, 3, 4]\n",
    "print(\"y after modification:\", y)  # Output: [1, 2, 3, 4] (y is also modified)\n"
   ]
  },
  {
   "cell_type": "code",
   "execution_count": null,
   "id": "2c5b801b",
   "metadata": {},
   "outputs": [],
   "source": []
  }
 ],
 "metadata": {
  "kernelspec": {
   "display_name": "Python 3 (ipykernel)",
   "language": "python",
   "name": "python3"
  },
  "language_info": {
   "codemirror_mode": {
    "name": "ipython",
    "version": 3
   },
   "file_extension": ".py",
   "mimetype": "text/x-python",
   "name": "python",
   "nbconvert_exporter": "python",
   "pygments_lexer": "ipython3",
   "version": "3.9.13"
  }
 },
 "nbformat": 4,
 "nbformat_minor": 5
}
